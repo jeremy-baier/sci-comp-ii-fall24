{
 "cells": [
  {
   "attachments": {},
   "cell_type": "markdown",
   "metadata": {},
   "source": [
    "# Convolutional Neural Networks"
   ]
  },
  {
   "cell_type": "code",
   "execution_count": 1,
   "metadata": {},
   "outputs": [],
   "source": [
    "import numpy as np\n",
    "import tensorflow as tf\n",
    "import tensorflow_datasets as tfds\n",
    "\n",
    "import matplotlib.pyplot as plt\n",
    "\n",
    "from flax import linen as nn"
   ]
  },
  {
   "attachments": {},
   "cell_type": "markdown",
   "metadata": {},
   "source": [
    "This notebook makes extensive use of examples and figures from [here](http://cs231n.github.io/convolutional-networks/), which is a great reference for further details."
   ]
  },
  {
   "cell_type": "code",
   "execution_count": 2,
   "metadata": {},
   "outputs": [],
   "source": [
    "train_ds = tfds.load('fashion_mnist', split='train')\n",
    "test_ds = tfds.load('fashion_mnist', split='test')"
   ]
  },
  {
   "attachments": {},
   "cell_type": "markdown",
   "metadata": {},
   "source": [
    "## MNIST - Fashion\n",
    "\n",
    "... a collection of small 28x28 pixel images of various pieces of clothing. This is a multi-class classification problem, identify the type of object in the image\n",
    "\n",
    "|Label| Class  |\n",
    "|------ | ------|\n",
    "|    0|T-shirt/top|\n",
    "|    1|Trouser|\n",
    "|    2| Pullover|\n",
    "|    3| Dress|\n",
    "|    4| Coat|\n",
    "|    5| Sandal|\n",
    "|    6| Shirt|\n",
    "|    7| Sneaker|\n",
    "|    8| Bag|\n",
    "|    9| Ankle boot|"
   ]
  },
  {
   "cell_type": "code",
   "execution_count": 3,
   "metadata": {},
   "outputs": [],
   "source": [
    "n_classes = 10\n",
    "\n",
    "# This is useful for making plots it takes an integer\n",
    "lookup_dict={\n",
    "    0:'T-shirt/top',\n",
    "    1 :'Trouser',\n",
    "    2 :'Pullover',\n",
    "    3 :'Dress',\n",
    "    4 :'Coat',\n",
    "    5 :'Sandal',\n",
    "    6 :'Shirt',\n",
    "    7 :'Sneaker',\n",
    "    8 :'Bag',\n",
    "    9 :'Ankle boot'\n",
    "}\n",
    "\n",
    "labels = list(lookup_dict.values())"
   ]
  },
  {
   "attachments": {},
   "cell_type": "markdown",
   "metadata": {},
   "source": [
    "Regularize the data."
   ]
  },
  {
   "cell_type": "code",
   "execution_count": 4,
   "metadata": {},
   "outputs": [],
   "source": [
    "train_ds = train_ds.map(lambda sample: {'image': tf.cast(sample['image'],\n",
    "                                                        tf.float32) / 255.,\n",
    "                                        'label': sample['label']}) # normalize train set\n",
    "test_ds = test_ds.map(lambda sample: {'image': tf.cast(sample['image'],\n",
    "                                                        tf.float32) / 255.,\n",
    "                                    'label': sample['label']}) # normalize test set"
   ]
  },
  {
   "attachments": {},
   "cell_type": "markdown",
   "metadata": {},
   "source": [
    "Batch up the data."
   ]
  },
  {
   "cell_type": "code",
   "execution_count": 5,
   "metadata": {},
   "outputs": [],
   "source": [
    "tf.random.set_seed(0) # ensure dataset shuffling"
   ]
  },
  {
   "cell_type": "code",
   "execution_count": 6,
   "metadata": {},
   "outputs": [],
   "source": [
    "num_epochs = 50\n",
    "batch_size = 32\n",
    "\n",
    "# shuffle data by allocating a buffer of 1024 to randomly draw examples from\n",
    "train_ds = train_ds.repeat(num_epochs).shuffle(1024)\n",
    "test_ds = test_ds.shuffle(1024)\n",
    "\n",
    "# group into batches of 32, skip incomplete batch, prefetch next sample to speed up\n",
    "train_ds = train_ds.batch(batch_size, drop_remainder=True).prefetch(1)\n",
    "test_ds = test_ds.batch(batch_size, drop_remainder=True).prefetch(1)"
   ]
  },
  {
   "cell_type": "code",
   "execution_count": 7,
   "metadata": {},
   "outputs": [],
   "source": [
    "class DenseNN(nn.Module):\n",
    "  \"\"\"A simple model with densely connected layers.\"\"\"\n",
    "\n",
    "  @nn.compact\n",
    "  def __call__(self, x):\n",
    "    x = x.reshape((x.shape[0], -1))   # flatten\n",
    "    x = nn.Dense(features=100)(x)\n",
    "    x = nn.relu(x)\n",
    "    x = nn.Dense(features=100)(x)\n",
    "    x = nn.relu(x)\n",
    "    x = nn.Dense(features=n_classes)(x)\n",
    "    return x"
   ]
  },
  {
   "cell_type": "code",
   "execution_count": 8,
   "metadata": {},
   "outputs": [
    {
     "name": "stdout",
     "output_type": "stream",
     "text": [
      "\n",
      "\u001b[3m                                DenseNN Summary                                 \u001b[0m\n",
      "┏━━━━━━━━━┳━━━━━━━━━┳━━━━━━━━━━━━━━━━━━━━┳━━━━━━━━━━━━━━━━┳━━━━━━━━━━━━━━━━━━━━┓\n",
      "┃\u001b[1m \u001b[0m\u001b[1mpath   \u001b[0m\u001b[1m \u001b[0m┃\u001b[1m \u001b[0m\u001b[1mmodule \u001b[0m\u001b[1m \u001b[0m┃\u001b[1m \u001b[0m\u001b[1minputs            \u001b[0m\u001b[1m \u001b[0m┃\u001b[1m \u001b[0m\u001b[1moutputs       \u001b[0m\u001b[1m \u001b[0m┃\u001b[1m \u001b[0m\u001b[1mparams            \u001b[0m\u001b[1m \u001b[0m┃\n",
      "┡━━━━━━━━━╇━━━━━━━━━╇━━━━━━━━━━━━━━━━━━━━╇━━━━━━━━━━━━━━━━╇━━━━━━━━━━━━━━━━━━━━┩\n",
      "│         │ DenseNN │ \u001b[2mfloat32\u001b[0m[1,28,28,1] │ \u001b[2mfloat32\u001b[0m[1,10]  │                    │\n",
      "├─────────┼─────────┼────────────────────┼────────────────┼────────────────────┤\n",
      "│ Dense_0 │ Dense   │ \u001b[2mfloat32\u001b[0m[1,784]     │ \u001b[2mfloat32\u001b[0m[1,100] │ bias: \u001b[2mfloat32\u001b[0m[100] │\n",
      "│         │         │                    │                │ kernel:            │\n",
      "│         │         │                    │                │ \u001b[2mfloat32\u001b[0m[784,100]   │\n",
      "│         │         │                    │                │                    │\n",
      "│         │         │                    │                │ \u001b[1m78,500 \u001b[0m\u001b[1;2m(314.0 KB)\u001b[0m  │\n",
      "├─────────┼─────────┼────────────────────┼────────────────┼────────────────────┤\n",
      "│ Dense_1 │ Dense   │ \u001b[2mfloat32\u001b[0m[1,100]     │ \u001b[2mfloat32\u001b[0m[1,100] │ bias: \u001b[2mfloat32\u001b[0m[100] │\n",
      "│         │         │                    │                │ kernel:            │\n",
      "│         │         │                    │                │ \u001b[2mfloat32\u001b[0m[100,100]   │\n",
      "│         │         │                    │                │                    │\n",
      "│         │         │                    │                │ \u001b[1m10,100 \u001b[0m\u001b[1;2m(40.4 KB)\u001b[0m   │\n",
      "├─────────┼─────────┼────────────────────┼────────────────┼────────────────────┤\n",
      "│ Dense_2 │ Dense   │ \u001b[2mfloat32\u001b[0m[1,100]     │ \u001b[2mfloat32\u001b[0m[1,10]  │ bias: \u001b[2mfloat32\u001b[0m[10]  │\n",
      "│         │         │                    │                │ kernel:            │\n",
      "│         │         │                    │                │ \u001b[2mfloat32\u001b[0m[100,10]    │\n",
      "│         │         │                    │                │                    │\n",
      "│         │         │                    │                │ \u001b[1m1,010 \u001b[0m\u001b[1;2m(4.0 KB)\u001b[0m     │\n",
      "├─────────┼─────────┼────────────────────┼────────────────┼────────────────────┤\n",
      "│\u001b[1m \u001b[0m\u001b[1m       \u001b[0m\u001b[1m \u001b[0m│\u001b[1m \u001b[0m\u001b[1m       \u001b[0m\u001b[1m \u001b[0m│\u001b[1m \u001b[0m\u001b[1m                  \u001b[0m\u001b[1m \u001b[0m│\u001b[1m \u001b[0m\u001b[1m         Total\u001b[0m\u001b[1m \u001b[0m│\u001b[1m \u001b[0m\u001b[1m89,610 \u001b[0m\u001b[1;2m(358.4 KB)\u001b[0m\u001b[1m \u001b[0m\u001b[1m \u001b[0m│\n",
      "└─────────┴─────────┴────────────────────┴────────────────┴────────────────────┘\n",
      "\u001b[1m                                                                                \u001b[0m\n",
      "\u001b[1m                      Total Parameters: 89,610 \u001b[0m\u001b[1;2m(358.4 KB)\u001b[0m\u001b[1m                       \u001b[0m\n",
      "\n",
      "\n"
     ]
    }
   ],
   "source": [
    "import jax\n",
    "import jax.numpy as jnp  # JAX NumPy\n",
    "\n",
    "dummy_input = jnp.ones((1, 28, 28, 1))\n",
    "\n",
    "dnn = DenseNN()\n",
    "print(dnn.tabulate(jax.random.PRNGKey(0), jnp.ones((1, 28, 28, 1))))"
   ]
  },
  {
   "attachments": {},
   "cell_type": "markdown",
   "metadata": {},
   "source": [
    "Now we prepare for training."
   ]
  },
  {
   "cell_type": "code",
   "execution_count": 9,
   "metadata": {},
   "outputs": [],
   "source": [
    "from clu import metrics\n",
    "from flax.training import train_state\n",
    "from flax import struct\n",
    "import optax"
   ]
  },
  {
   "cell_type": "code",
   "execution_count": 10,
   "metadata": {},
   "outputs": [],
   "source": [
    "@struct.dataclass\n",
    "class Metrics(metrics.Collection):\n",
    "    accuracy: metrics.Accuracy\n",
    "    loss: metrics.Average.from_output('loss')\n",
    "\n",
    "class TrainState(train_state.TrainState):\n",
    "   metrics: Metrics\n",
    "\n",
    "# state = create_train_state(dnn, init_rng, learning_rate, momentum)\n",
    "def create_train_state(model, rng, learning_rate):\n",
    "    params = model.init(rng, dummy_input)['params']\n",
    "    tx = optax.adam(learning_rate)\n",
    "    return TrainState.create(\n",
    "        apply_fn=model.apply, params=params, tx=tx,\n",
    "        metrics=Metrics.empty())\n",
    "\n",
    "@jax.jit\n",
    "def train_step(state, batch):\n",
    "  \"\"\"Train for a single step.\"\"\"\n",
    "  def loss_fn(params):\n",
    "    logits = state.apply_fn({'params': params}, batch['image'])\n",
    "    loss = optax.softmax_cross_entropy_with_integer_labels(\n",
    "        logits=logits, labels=batch['label']).mean()\n",
    "    return loss\n",
    "  grad_fn = jax.grad(loss_fn)\n",
    "  grads = grad_fn(state.params)\n",
    "  state = state.apply_gradients(grads=grads)\n",
    "  return state\n",
    "\n",
    "@jax.jit\n",
    "def compute_metrics(*, state, batch):\n",
    "    logits = state.apply_fn({'params': state.params}, batch['image'])\n",
    "    loss = optax.softmax_cross_entropy_with_integer_labels(\n",
    "        logits=logits, labels=batch['label']).mean()\n",
    "    metric_updates = state.metrics.single_from_model_output(\n",
    "        logits=logits, labels=batch['label'], loss=loss)\n",
    "    metrics = state.metrics.merge(metric_updates)\n",
    "    state = state.replace(metrics=metrics)\n",
    "    return state"
   ]
  },
  {
   "cell_type": "code",
   "execution_count": 11,
   "metadata": {},
   "outputs": [],
   "source": [
    "init_rng = jax.random.PRNGKey(0)\n",
    "learning_rate = 0.01\n",
    "state = create_train_state(dnn, init_rng, learning_rate)\n",
    "del init_rng  # Must not be used anymore."
   ]
  },
  {
   "cell_type": "code",
   "execution_count": 12,
   "metadata": {},
   "outputs": [
    {
     "data": {
      "text/plain": [
       "np.int64(1875)"
      ]
     },
     "execution_count": 12,
     "metadata": {},
     "output_type": "execute_result"
    }
   ],
   "source": [
    "# since train_ds is replicated num_epochs times in get_datasets(), we divide by num_epochs\n",
    "num_steps_per_epoch = train_ds.cardinality().numpy() // num_epochs\n",
    "num_steps_per_epoch"
   ]
  },
  {
   "cell_type": "code",
   "execution_count": 13,
   "metadata": {},
   "outputs": [],
   "source": [
    "metrics_history = {'train_loss': [],\n",
    "                   'train_accuracy': [],\n",
    "                   'test_loss': [],\n",
    "                   'test_accuracy': []}"
   ]
  },
  {
   "cell_type": "code",
   "execution_count": 14,
   "metadata": {},
   "outputs": [
    {
     "name": "stdout",
     "output_type": "stream",
     "text": [
      "train epoch: 1, loss: 0.47503530979156494, accuracy: 82.72167205810547\n",
      "test epoch: 1, loss: 0.47105857729911804, accuracy: 83.24319458007812\n",
      "train epoch: 2, loss: 0.3987407684326172, accuracy: 85.3566665649414\n",
      "test epoch: 2, loss: 0.4506065249443054, accuracy: 83.61378479003906\n",
      "train epoch: 3, loss: 0.3839544951915741, accuracy: 85.96833038330078\n",
      "test epoch: 3, loss: 0.46518057584762573, accuracy: 83.45352172851562\n",
      "train epoch: 4, loss: 0.37045082449913025, accuracy: 86.4000015258789\n",
      "test epoch: 4, loss: 0.45166128873825073, accuracy: 84.08453369140625\n",
      "train epoch: 5, loss: 0.3631294369697571, accuracy: 86.86000061035156\n",
      "test epoch: 5, loss: 0.4474742114543915, accuracy: 84.43509674072266\n",
      "train epoch: 6, loss: 0.358341783285141, accuracy: 86.93333435058594\n",
      "test epoch: 6, loss: 0.4386613667011261, accuracy: 85.146240234375\n",
      "train epoch: 7, loss: 0.36427968740463257, accuracy: 86.72333526611328\n",
      "test epoch: 7, loss: 0.5152800679206848, accuracy: 82.72235107421875\n",
      "train epoch: 8, loss: 0.36253926157951355, accuracy: 86.83500671386719\n",
      "test epoch: 8, loss: 0.4567706882953644, accuracy: 84.27484130859375\n",
      "train epoch: 9, loss: 0.34962043166160583, accuracy: 87.30000305175781\n",
      "test epoch: 9, loss: 0.45509979128837585, accuracy: 84.85577392578125\n",
      "train epoch: 10, loss: 0.34168338775634766, accuracy: 87.57666778564453\n",
      "test epoch: 10, loss: 0.4625166356563568, accuracy: 84.94590759277344\n",
      "train epoch: 11, loss: 0.34453079104423523, accuracy: 87.62333679199219\n",
      "test epoch: 11, loss: 0.5809116363525391, accuracy: 83.23316955566406\n",
      "train epoch: 12, loss: 0.3405260741710663, accuracy: 87.83499908447266\n",
      "test epoch: 12, loss: 0.44068747758865356, accuracy: 85.04607391357422\n",
      "train epoch: 13, loss: 0.33379143476486206, accuracy: 87.82167053222656\n",
      "test epoch: 13, loss: 0.4719032347202301, accuracy: 85.13621520996094\n",
      "train epoch: 14, loss: 0.32903921604156494, accuracy: 88.08666229248047\n",
      "test epoch: 14, loss: 0.47546303272247314, accuracy: 84.58534240722656\n",
      "train epoch: 15, loss: 0.33132824301719666, accuracy: 87.83833312988281\n",
      "test epoch: 15, loss: 0.44535255432128906, accuracy: 85.66706848144531\n",
      "train epoch: 16, loss: 0.3315998315811157, accuracy: 88.02666473388672\n",
      "test epoch: 16, loss: 0.45818397402763367, accuracy: 85.21634674072266\n",
      "train epoch: 17, loss: 0.32192185521125793, accuracy: 88.31999969482422\n",
      "test epoch: 17, loss: 0.5079571604728699, accuracy: 83.91426086425781\n",
      "train epoch: 18, loss: 0.3256964087486267, accuracy: 88.20833587646484\n",
      "test epoch: 18, loss: 0.4504849910736084, accuracy: 85.7471923828125\n",
      "train epoch: 19, loss: 0.32314398884773254, accuracy: 88.30166625976562\n",
      "test epoch: 19, loss: 0.4491715133190155, accuracy: 85.25640869140625\n",
      "train epoch: 20, loss: 0.322745680809021, accuracy: 88.47000122070312\n",
      "test epoch: 20, loss: 0.455534428358078, accuracy: 85.15625\n",
      "train epoch: 21, loss: 0.32883551716804504, accuracy: 87.9800033569336\n",
      "test epoch: 21, loss: 0.5620694160461426, accuracy: 83.53365325927734\n",
      "train epoch: 22, loss: 0.3200381398200989, accuracy: 88.38666534423828\n",
      "test epoch: 22, loss: 0.5223985910415649, accuracy: 84.24479675292969\n",
      "train epoch: 23, loss: 0.32376202940940857, accuracy: 88.2316665649414\n",
      "test epoch: 23, loss: 0.46003350615501404, accuracy: 85.22636413574219\n",
      "train epoch: 24, loss: 0.3137686848640442, accuracy: 88.4949951171875\n",
      "test epoch: 24, loss: 0.4657337963581085, accuracy: 85.29647827148438\n",
      "train epoch: 25, loss: 0.32477837800979614, accuracy: 88.45499420166016\n",
      "test epoch: 25, loss: 0.492684006690979, accuracy: 85.47676086425781\n",
      "train epoch: 26, loss: 0.30880025029182434, accuracy: 88.87000274658203\n",
      "test epoch: 26, loss: 0.49599477648735046, accuracy: 86.04767608642578\n",
      "train epoch: 27, loss: 0.30849841237068176, accuracy: 88.92499542236328\n",
      "test epoch: 27, loss: 0.518424928188324, accuracy: 84.85577392578125\n",
      "train epoch: 28, loss: 0.30992940068244934, accuracy: 88.80332946777344\n",
      "test epoch: 28, loss: 0.5093902945518494, accuracy: 85.32652282714844\n",
      "train epoch: 29, loss: 0.31307899951934814, accuracy: 88.72833251953125\n",
      "test epoch: 29, loss: 0.4913572072982788, accuracy: 85.47676086425781\n",
      "train epoch: 30, loss: 0.30982571840286255, accuracy: 88.85166931152344\n",
      "test epoch: 30, loss: 0.5276889204978943, accuracy: 84.86578369140625\n",
      "train epoch: 31, loss: 0.3176245093345642, accuracy: 88.68333435058594\n",
      "test epoch: 31, loss: 0.538665235042572, accuracy: 85.23637390136719\n",
      "train epoch: 32, loss: 0.31104975938796997, accuracy: 88.86499786376953\n",
      "test epoch: 32, loss: 0.556045413017273, accuracy: 84.78565979003906\n",
      "train epoch: 33, loss: 0.30605369806289673, accuracy: 88.95333099365234\n",
      "test epoch: 33, loss: 0.5219754576683044, accuracy: 85.42668151855469\n",
      "train epoch: 34, loss: 0.30400964617729187, accuracy: 89.06999969482422\n",
      "test epoch: 34, loss: 0.49356916546821594, accuracy: 85.79727172851562\n",
      "train epoch: 35, loss: 0.3052109181880951, accuracy: 89.0433349609375\n",
      "test epoch: 35, loss: 0.5183706283569336, accuracy: 85.66706848144531\n",
      "train epoch: 36, loss: 0.3010137379169464, accuracy: 89.1300048828125\n",
      "test epoch: 36, loss: 0.5247224569320679, accuracy: 84.35496520996094\n",
      "train epoch: 37, loss: 0.2975694239139557, accuracy: 89.28666687011719\n",
      "test epoch: 37, loss: 0.4852535128593445, accuracy: 85.56690979003906\n",
      "train epoch: 38, loss: 0.3069452941417694, accuracy: 88.875\n",
      "test epoch: 38, loss: 0.5689628720283508, accuracy: 83.48357391357422\n",
      "train epoch: 39, loss: 0.29615744948387146, accuracy: 89.34166717529297\n",
      "test epoch: 39, loss: 0.5142799019813538, accuracy: 85.49679565429688\n",
      "train epoch: 40, loss: 0.30108898878097534, accuracy: 89.04167175292969\n",
      "test epoch: 40, loss: 0.5246663689613342, accuracy: 86.49839782714844\n",
      "train epoch: 41, loss: 0.30275580286979675, accuracy: 89.22833251953125\n",
      "test epoch: 41, loss: 0.5235886573791504, accuracy: 86.23797607421875\n",
      "train epoch: 42, loss: 0.29795852303504944, accuracy: 89.2449951171875\n",
      "test epoch: 42, loss: 0.5607386827468872, accuracy: 85.33653259277344\n",
      "train epoch: 43, loss: 0.31388989090919495, accuracy: 88.913330078125\n",
      "test epoch: 43, loss: 0.5064047574996948, accuracy: 85.98757934570312\n",
      "train epoch: 44, loss: 0.30195489525794983, accuracy: 89.10499572753906\n",
      "test epoch: 44, loss: 0.5276893973350525, accuracy: 85.17628479003906\n",
      "train epoch: 45, loss: 0.29666486382484436, accuracy: 89.18167114257812\n",
      "test epoch: 45, loss: 0.5493738651275635, accuracy: 85.3465576171875\n",
      "train epoch: 46, loss: 0.3272168040275574, accuracy: 88.48999786376953\n",
      "test epoch: 46, loss: 0.5290499329566956, accuracy: 86.45832824707031\n",
      "train epoch: 47, loss: 0.29797378182411194, accuracy: 89.39833068847656\n",
      "test epoch: 47, loss: 0.5834169983863831, accuracy: 85.556884765625\n",
      "train epoch: 48, loss: 0.294539213180542, accuracy: 89.51499938964844\n",
      "test epoch: 48, loss: 0.5377746820449829, accuracy: 85.7071304321289\n",
      "train epoch: 49, loss: 0.2940711975097656, accuracy: 89.31499481201172\n",
      "test epoch: 49, loss: 0.6148399710655212, accuracy: 86.07772827148438\n",
      "train epoch: 50, loss: 0.2970893681049347, accuracy: 89.30332946777344\n",
      "test epoch: 50, loss: 0.559499979019165, accuracy: 85.71714782714844\n"
     ]
    }
   ],
   "source": [
    "for step,batch in enumerate(train_ds.as_numpy_iterator()):\n",
    "\n",
    "  # Run optimization steps over training batches and compute batch metrics\n",
    "  state = train_step(state, batch) # get updated train state (which contains the updated parameters)\n",
    "  state = compute_metrics(state=state, batch=batch) # aggregate batch metrics\n",
    "\n",
    "  if (step+1) % num_steps_per_epoch == 0: # one training epoch has passed\n",
    "    for metric,value in state.metrics.compute().items(): # compute metrics\n",
    "      metrics_history[f'train_{metric}'].append(value) # record metrics\n",
    "    state = state.replace(metrics=state.metrics.empty()) # reset train_metrics for next training epoch\n",
    "\n",
    "    # Compute metrics on the test set after each training epoch\n",
    "    test_state = state\n",
    "    for test_batch in test_ds.as_numpy_iterator():\n",
    "      test_state = compute_metrics(state=test_state, batch=test_batch)\n",
    "\n",
    "    for metric,value in test_state.metrics.compute().items():\n",
    "      metrics_history[f'test_{metric}'].append(value)\n",
    "\n",
    "    print(f\"train epoch: {(step+1) // num_steps_per_epoch}, \"\n",
    "          f\"loss: {metrics_history['train_loss'][-1]}, \"\n",
    "          f\"accuracy: {metrics_history['train_accuracy'][-1] * 100}\")\n",
    "    print(f\"test epoch: {(step+1) // num_steps_per_epoch}, \"\n",
    "          f\"loss: {metrics_history['test_loss'][-1]}, \"\n",
    "          f\"accuracy: {metrics_history['test_accuracy'][-1] * 100}\")"
   ]
  },
  {
   "attachments": {},
   "cell_type": "markdown",
   "metadata": {},
   "source": [
    "After a fair amount of training we found a ~$86\\%$ validation accuracy.  OK, but not great.  Let's take another look at the summary."
   ]
  },
  {
   "attachments": {},
   "cell_type": "markdown",
   "metadata": {},
   "source": [
    "Our first layer has $28 \\times 28 \\times 1 \\times 100 = 78,500$ weights, which is manageable.  What if we had higher-resolution images?  Let's go with a modest $300 \\times 300$ pixel input.  That would be $300 \\times 300 \\times 3 \\times 100= 27$ Million parameters for one layer. This is still possible with modern GPUs, but does not generally yield good results. We need a solution that scales better with the number of pixels!"
   ]
  },
  {
   "attachments": {},
   "cell_type": "markdown",
   "metadata": {},
   "source": [
    "A $300\\times300\\times3$ pixel image:\n",
    "<img src=\"https://raw.githubusercontent.com/jsearcy1/racsml/master/assets/small_img.jpg\" style=\"width:100\">"
   ]
  },
  {
   "attachments": {},
   "cell_type": "markdown",
   "metadata": {},
   "source": [
    "# Convolutional Neural Networks\n"
   ]
  },
  {
   "attachments": {},
   "cell_type": "markdown",
   "metadata": {},
   "source": [
    "The fully connected neural network becomes cumbersome when we start considering image recognition; it needs *lots* of weights, and isn't designed to take advantage of spatial features in the inputs.  This is where CNNs become powerful.\n",
    "<img src=\"http://cs231n.github.io/assets/cnn/cnn.jpeg\" style=\"width:100\">\n"
   ]
  },
  {
   "attachments": {},
   "cell_type": "markdown",
   "metadata": {},
   "source": [
    "CNNs preserve the spatial (2-D) information of the input images, add a depth to their layers, and reduce the number of connections (and weights).\n",
    "\n",
    "The layers used to build CNN *architectures* fall into three categories:\n",
    " 1. Convolutional Layer\n",
    " 1. Pooling Layer\n",
    " 1. Fully-Connected Layer"
   ]
  },
  {
   "attachments": {},
   "cell_type": "markdown",
   "metadata": {},
   "source": [
    "## Convolutional layer"
   ]
  },
  {
   "attachments": {},
   "cell_type": "markdown",
   "metadata": {},
   "source": [
    "<img src=\"http://cs231n.github.io/assets/cnn/depthcol.jpeg\" style=\"width=100\">"
   ]
  },
  {
   "attachments": {},
   "cell_type": "markdown",
   "metadata": {},
   "source": [
    "Convolutional layers consist of a set of filters that apply over a small spatial area, but the full depth of the input.  The example above shows on the left a [32x32x3] input volume (width 32, height 32 image with RGB color channels).  The volume on the right is an example of a convolutional layer, with a particular **depth column** highlighted which takes as input *only* the highlighted region of the input volume.  The spatial extent of the area covered by a depth column is referred to as the **receptive field**.\n",
    "\n",
    "The dimensions of the *output volume* are decided by 3 hyperparameters: **depth**, **stride**, and **zero-padding**.  We can compute the size of the output volume based on the volume size $W$, the receptive field size of the convolution layer $F$, their applied stride $S$, and the amount of zero padding used $P$.\n",
    "\n",
    "Based on these parameters, the number of pixels in the output of a convolutional layer is $(W−F+2P)/S+1$. "
   ]
  },
  {
   "attachments": {},
   "cell_type": "markdown",
   "metadata": {},
   "source": [
    "<img src=\"http://cs231n.github.io/assets/cnn/stride.jpeg\">"
   ]
  },
  {
   "attachments": {},
   "cell_type": "markdown",
   "metadata": {},
   "source": [
    "Above is a 1-D example with inputs on the bottom in blue ($W=5$) with a padding of 1 ($P=1$), and two different examples of a convolutional filter, both with receptive field $F=3$.\n",
    "\n",
    "*Left*: This is a convolutional layer with stride $S = 1$, meaning we expect ($5 - 3 + 2)/1+1 = 5$ neurons (i.e., outputs).\n",
    "\n",
    "*Right*: Layer with stride $S = 2$, meaning an output of size $(5 - 3 + 2)/2+1 = 3$.\n",
    "\n",
    "Note how on the left the zero padding allowed us to have the same number of outputs as inputs.  This is a common use of zero-padding."
   ]
  },
  {
   "attachments": {},
   "cell_type": "markdown",
   "metadata": {},
   "source": [
    "### Parameter sharing"
   ]
  },
  {
   "attachments": {},
   "cell_type": "markdown",
   "metadata": {},
   "source": [
    "We can dramatically reduce the number of parameters involved in a convolutional layer by making the assumption that if one feature is useful to compute at some spatial position $(x,y)$, then it should also be useful to compute at a different position $(x_2,y_2)$.\n",
    "\n",
    "In other words, denoting a single 2-dimensional slice of depth as a depth slice (e.g. a volume of size [7x7x3] has 3 depth slices, each of size [7x7]), we are going to constrain the pixels in each depth slice to use the same weights and bias. All $7\\times7$ pixels in each depth slice will now be using the same parameters.\n"
   ]
  },
  {
   "attachments": {},
   "cell_type": "markdown",
   "metadata": {},
   "source": [
    "<img src=\"https://harishnarayanan.org/images/writing/artistic-style-transfer/conv-layer.gif\">\n"
   ]
  },
  {
   "attachments": {},
   "cell_type": "markdown",
   "metadata": {},
   "source": [
    "\n",
    "Lets look at the how the first output pixel is calculated\n",
    "\n",
    "|X[0:3,0:3,0]|W0[:,:,0]| \n",
    "|------ | ------|\n",
    "|0,0,0  |-1,0,1|\n",
    "|0,0,0  |0,0,1 |\n",
    "|0,1,0  |1,-1,1|\n",
    "|first channel = | -1|\n",
    "+\n",
    "|X[0:3,0:3,1]|W0[:,:,1]|\n",
    "|0,0,0  |-1,0,1|\n",
    "|0,2,1  |1,-1,1|\n",
    "|0,2,1  |0,1,0|\n",
    "|second channel = |1|\n",
    "+\n",
    "|X[0:3,0:3,2]|W0[:,:,2]|\n",
    "|0,0,0  |-1,1,1|\n",
    "|0,2,1  |1,1,0 |\n",
    "|0,1,0  |0,-1,0|\n",
    "|third channel= | 1|\n",
    "|bias = |1 |\n",
    "|Sum Total| 2 = O[0,0,0]|\n",
    "\n"
   ]
  },
  {
   "attachments": {},
   "cell_type": "markdown",
   "metadata": {},
   "source": [
    "## Pooling"
   ]
  },
  {
   "attachments": {},
   "cell_type": "markdown",
   "metadata": {},
   "source": [
    "Pooling layers act to reduce the dimension of the propagated volume, reducing the number of weights going forward, reducing cost and reducing the chances of over-fitting.  It operates independently on each depth slice.  A common operation is to take the MAX over a region.\n",
    "\n",
    "<img src=\"http://cs231n.github.io/assets/cnn/pool.jpeg\" style=\"width:300\">\n",
    "\n",
    "For example,\n",
    "<img src=\"http://cs231n.github.io/assets/cnn/maxpool.jpeg\" style=\"width:500\">\n",
    "\n",
    "**NOTE**: These are being used less and less these days, in favor of other methods such as strided convolutions seen above.\n",
    "\n"
   ]
  },
  {
   "attachments": {},
   "cell_type": "markdown",
   "metadata": {},
   "source": [
    "Let's return to the MNIST fasion data set.  First we'll download some external images that will be useful for visualizations later."
   ]
  },
  {
   "attachments": {},
   "cell_type": "markdown",
   "metadata": {},
   "source": [
    "# Data Shape\n",
    "\n",
    "Convolutional layers expect to handle 3-D data cubes, so we'll need to do a little reshaping of our dataset."
   ]
  },
  {
   "cell_type": "code",
   "execution_count": 15,
   "metadata": {},
   "outputs": [
    {
     "data": {
      "text/plain": [
       "{'image': TensorSpec(shape=(32, 28, 28, 1), dtype=tf.float32, name=None),\n",
       " 'label': TensorSpec(shape=(32,), dtype=tf.int64, name=None)}"
      ]
     },
     "execution_count": 15,
     "metadata": {},
     "output_type": "execute_result"
    }
   ],
   "source": [
    "train_ds.element_spec"
   ]
  },
  {
   "attachments": {},
   "cell_type": "markdown",
   "metadata": {},
   "source": [
    "## The Model"
   ]
  },
  {
   "attachments": {},
   "cell_type": "markdown",
   "metadata": {},
   "source": [
    "We'll now build our (sequential) model using `Flax`."
   ]
  },
  {
   "cell_type": "code",
   "execution_count": 16,
   "metadata": {},
   "outputs": [],
   "source": [
    "n_classes = 10\n",
    "\n",
    "class ConvNN(nn.Module):\n",
    "  \"\"\"A simple model with densely connected layers.\"\"\"\n",
    "\n",
    "  @nn.compact\n",
    "  def __call__(self, x, training: bool):\n",
    "    x = nn.Conv(features=32, kernel_size=(3, 3))(x)\n",
    "    x = nn.relu(x)\n",
    "    x = nn.Conv(features=32, kernel_size=(3, 3))(x)\n",
    "    x = nn.relu(x)\n",
    "    x = nn.max_pool(x, window_shape=(2, 2), strides=(2, 2))\n",
    "    x = nn.Dropout(rate=0.25, deterministic=not training)(x)\n",
    "    x = x.reshape((x.shape[0], -1))   # flatten\n",
    "    x = nn.Dense(features=128)(x)\n",
    "    x = nn.relu(x)\n",
    "    x = nn.Dropout(rate=0.5, deterministic=not training)(x)\n",
    "    x = nn.Dense(features=n_classes)(x)\n",
    "    return x"
   ]
  },
  {
   "attachments": {},
   "cell_type": "markdown",
   "metadata": {},
   "source": [
    "Our first layer (after the input layer) will be a convolutional layer with `32` filters.\n",
    "* Conv( Filters, (filter height, filter width), strides=1, padding='None' )"
   ]
  },
  {
   "attachments": {},
   "cell_type": "markdown",
   "metadata": {},
   "source": [
    "Now let's add on another `32`-filter convolutional layer, followed by a 2-D pooling layer with a pooling size of `2x2`."
   ]
  },
  {
   "attachments": {},
   "cell_type": "markdown",
   "metadata": {},
   "source": [
    "Next we'll add on a *dropout* layer.  This layer will set the specified fraction of inputs to `0`, which can be useful for avoiding over fitting.  We'll drop $25\\%$ of the inputs with this layer.   "
   ]
  },
  {
   "attachments": {},
   "cell_type": "markdown",
   "metadata": {},
   "source": [
    "Next we'll add a fully connected layer with `128` nodes, making sure to flatten the volume before passing to this layer."
   ]
  },
  {
   "attachments": {},
   "cell_type": "markdown",
   "metadata": {},
   "source": [
    "We'll now add one final $25\\%$ dropout layer for good measure, followed by the output layer."
   ]
  },
  {
   "attachments": {},
   "cell_type": "markdown",
   "metadata": {},
   "source": [
    "Now let's add our output layer.  Like with the dense netwok above, we need one node be possible category, and we'll use the `softmax` activation function since we're building a multi-class classifier."
   ]
  },
  {
   "attachments": {},
   "cell_type": "markdown",
   "metadata": {},
   "source": [
    "Let's see the final network."
   ]
  },
  {
   "cell_type": "code",
   "execution_count": 17,
   "metadata": {},
   "outputs": [
    {
     "data": {
      "text/plain": [
       "(1, 28, 28, 1)"
      ]
     },
     "execution_count": 17,
     "metadata": {},
     "output_type": "execute_result"
    }
   ],
   "source": [
    "dummy_input.shape"
   ]
  },
  {
   "cell_type": "code",
   "execution_count": 18,
   "metadata": {},
   "outputs": [
    {
     "name": "stdout",
     "output_type": "stream",
     "text": [
      "\n",
      "\u001b[3m                                 ConvNN Summary                                 \u001b[0m\n",
      "┏━━━━━━━━━━━┳━━━━━━━━━┳━━━━━━━━━━━━━━━━━━┳━━━━━━━━━━━━━━━━━━┳━━━━━━━━━━━━━━━━━━┓\n",
      "┃\u001b[1m \u001b[0m\u001b[1mpath     \u001b[0m\u001b[1m \u001b[0m┃\u001b[1m \u001b[0m\u001b[1mmodule \u001b[0m\u001b[1m \u001b[0m┃\u001b[1m \u001b[0m\u001b[1minputs          \u001b[0m\u001b[1m \u001b[0m┃\u001b[1m \u001b[0m\u001b[1moutputs         \u001b[0m\u001b[1m \u001b[0m┃\u001b[1m \u001b[0m\u001b[1mparams          \u001b[0m\u001b[1m \u001b[0m┃\n",
      "┡━━━━━━━━━━━╇━━━━━━━━━╇━━━━━━━━━━━━━━━━━━╇━━━━━━━━━━━━━━━━━━╇━━━━━━━━━━━━━━━━━━┩\n",
      "│           │ ConvNN  │ -                │ \u001b[2mfloat32\u001b[0m[1,10]    │                  │\n",
      "│           │         │ \u001b[2mfloat32\u001b[0m[1,28,28… │                  │                  │\n",
      "│           │         │ - training:      │                  │                  │\n",
      "│           │         │ False            │                  │                  │\n",
      "├───────────┼─────────┼──────────────────┼──────────────────┼──────────────────┤\n",
      "│ Conv_0    │ Conv    │ \u001b[2mfloat32\u001b[0m[1,28,28… │ \u001b[2mfloat32\u001b[0m[1,28,28… │ bias:            │\n",
      "│           │         │                  │                  │ \u001b[2mfloat32\u001b[0m[32]      │\n",
      "│           │         │                  │                  │ kernel:          │\n",
      "│           │         │                  │                  │ \u001b[2mfloat32\u001b[0m[3,3,1,3… │\n",
      "│           │         │                  │                  │                  │\n",
      "│           │         │                  │                  │ \u001b[1m320 \u001b[0m\u001b[1;2m(1.3 KB)\u001b[0m     │\n",
      "├───────────┼─────────┼──────────────────┼──────────────────┼──────────────────┤\n",
      "│ Conv_1    │ Conv    │ \u001b[2mfloat32\u001b[0m[1,28,28… │ \u001b[2mfloat32\u001b[0m[1,28,28… │ bias:            │\n",
      "│           │         │                  │                  │ \u001b[2mfloat32\u001b[0m[32]      │\n",
      "│           │         │                  │                  │ kernel:          │\n",
      "│           │         │                  │                  │ \u001b[2mfloat32\u001b[0m[3,3,32,… │\n",
      "│           │         │                  │                  │                  │\n",
      "│           │         │                  │                  │ \u001b[1m9,248 \u001b[0m\u001b[1;2m(37.0 KB)\u001b[0m  │\n",
      "├───────────┼─────────┼──────────────────┼──────────────────┼──────────────────┤\n",
      "│ Dropout_0 │ Dropout │ \u001b[2mfloat32\u001b[0m[1,14,14… │ \u001b[2mfloat32\u001b[0m[1,14,14… │                  │\n",
      "├───────────┼─────────┼──────────────────┼──────────────────┼──────────────────┤\n",
      "│ Dense_0   │ Dense   │ \u001b[2mfloat32\u001b[0m[1,6272]  │ \u001b[2mfloat32\u001b[0m[1,128]   │ bias:            │\n",
      "│           │         │                  │                  │ \u001b[2mfloat32\u001b[0m[128]     │\n",
      "│           │         │                  │                  │ kernel:          │\n",
      "│           │         │                  │                  │ \u001b[2mfloat32\u001b[0m[6272,12… │\n",
      "│           │         │                  │                  │                  │\n",
      "│           │         │                  │                  │ \u001b[1m802,944 \u001b[0m\u001b[1;2m(3.2 MB)\u001b[0m │\n",
      "├───────────┼─────────┼──────────────────┼──────────────────┼──────────────────┤\n",
      "│ Dropout_1 │ Dropout │ \u001b[2mfloat32\u001b[0m[1,128]   │ \u001b[2mfloat32\u001b[0m[1,128]   │                  │\n",
      "├───────────┼─────────┼──────────────────┼──────────────────┼──────────────────┤\n",
      "│ Dense_1   │ Dense   │ \u001b[2mfloat32\u001b[0m[1,128]   │ \u001b[2mfloat32\u001b[0m[1,10]    │ bias:            │\n",
      "│           │         │                  │                  │ \u001b[2mfloat32\u001b[0m[10]      │\n",
      "│           │         │                  │                  │ kernel:          │\n",
      "│           │         │                  │                  │ \u001b[2mfloat32\u001b[0m[128,10]  │\n",
      "│           │         │                  │                  │                  │\n",
      "│           │         │                  │                  │ \u001b[1m1,290 \u001b[0m\u001b[1;2m(5.2 KB)\u001b[0m   │\n",
      "├───────────┼─────────┼──────────────────┼──────────────────┼──────────────────┤\n",
      "│\u001b[1m \u001b[0m\u001b[1m         \u001b[0m\u001b[1m \u001b[0m│\u001b[1m \u001b[0m\u001b[1m       \u001b[0m\u001b[1m \u001b[0m│\u001b[1m \u001b[0m\u001b[1m                \u001b[0m\u001b[1m \u001b[0m│\u001b[1m \u001b[0m\u001b[1m           Total\u001b[0m\u001b[1m \u001b[0m│\u001b[1m \u001b[0m\u001b[1m813,802 \u001b[0m\u001b[1;2m(3.3 MB)\u001b[0m\u001b[1m \u001b[0m│\n",
      "└───────────┴─────────┴──────────────────┴──────────────────┴──────────────────┘\n",
      "\u001b[1m                                                                                \u001b[0m\n",
      "\u001b[1m                       Total Parameters: 813,802 \u001b[0m\u001b[1;2m(3.3 MB)\u001b[0m\u001b[1m                       \u001b[0m\n",
      "\n",
      "\n"
     ]
    }
   ],
   "source": [
    "import jax\n",
    "import jax.numpy as jnp  # JAX NumPy\n",
    "\n",
    "cnn = ConvNN()\n",
    "print(cnn.tabulate(jax.random.PRNGKey(0), dummy_input, training=False))"
   ]
  },
  {
   "attachments": {},
   "cell_type": "markdown",
   "metadata": {},
   "source": [
    "The first thing to note is that we have $813802$ trainable parameters in this network, compared to the $89610$ parameters in the dense network we constructed previously."
   ]
  },
  {
   "attachments": {},
   "cell_type": "markdown",
   "metadata": {},
   "source": [
    "Now that we've built our full model it's time to compile it, specifying the loss function, optimizer, and any metrics we want to look at, and fit on the training data."
   ]
  },
  {
   "cell_type": "code",
   "execution_count": 19,
   "metadata": {},
   "outputs": [],
   "source": [
    "init_rng, dropout_rng = jax.random.split(jax.random.PRNGKey(0), 2)"
   ]
  },
  {
   "cell_type": "code",
   "execution_count": 22,
   "metadata": {},
   "outputs": [],
   "source": [
    "@struct.dataclass\n",
    "class Metrics(metrics.Collection):\n",
    "    accuracy: metrics.Accuracy\n",
    "    loss: metrics.Average.from_output('loss')\n",
    "\n",
    "class TrainState(train_state.TrainState):\n",
    "   key: jax.Array\n",
    "   metrics: Metrics\n",
    "\n",
    "def create_train_state(model, rng, learning_rate):\n",
    "    params = model.init(rng, dummy_input, training=False)['params']\n",
    "    tx = optax.adam(learning_rate)\n",
    "    return TrainState.create(\n",
    "        apply_fn=model.apply, params=params,\n",
    "        key=dropout_rng, tx=tx,\n",
    "        metrics=Metrics.empty())\n",
    "\n",
    "@jax.jit\n",
    "def train_step(state, batch, dropout_rng):\n",
    "  \"\"\"Train for a single step.\"\"\"\n",
    "  dropout_train_key = jax.random.fold_in(key=dropout_rng, data=state.step)\n",
    "  def loss_fn(params):\n",
    "    logits = state.apply_fn({'params': params}, batch['image'],\n",
    "                            training=True, rngs={'dropout': dropout_train_key})\n",
    "    loss = optax.softmax_cross_entropy_with_integer_labels(\n",
    "        logits=logits, labels=batch['label']).mean()\n",
    "    return loss\n",
    "  grad_fn = jax.grad(loss_fn)\n",
    "  grads = grad_fn(state.params)\n",
    "  state = state.apply_gradients(grads=grads)\n",
    "  return state\n",
    "\n",
    "@jax.jit\n",
    "def compute_metrics(*, state, batch):\n",
    "    logits = state.apply_fn({'params': state.params}, batch['image'], training=False)\n",
    "    loss = optax.softmax_cross_entropy_with_integer_labels(\n",
    "        logits=logits, labels=batch['label']).mean()\n",
    "    metric_updates = state.metrics.single_from_model_output(\n",
    "        logits=logits, labels=batch['label'], loss=loss)\n",
    "    metrics = state.metrics.merge(metric_updates)\n",
    "    state = state.replace(metrics=metrics)\n",
    "    return state"
   ]
  },
  {
   "cell_type": "code",
   "execution_count": 23,
   "metadata": {},
   "outputs": [],
   "source": [
    "learning_rate = 0.01\n",
    "# momentum = 0.9\n",
    "\n",
    "state = create_train_state(cnn, init_rng, learning_rate)\n",
    "del init_rng  # Must not be used anymore."
   ]
  },
  {
   "cell_type": "code",
   "execution_count": 24,
   "metadata": {},
   "outputs": [],
   "source": [
    "metrics_history = {'train_loss': [],\n",
    "                   'train_accuracy': [],\n",
    "                   'test_loss': [],\n",
    "                   'test_accuracy': []}"
   ]
  },
  {
   "cell_type": "code",
   "execution_count": 25,
   "metadata": {},
   "outputs": [
    {
     "data": {
      "text/plain": [
       "np.int64(1875)"
      ]
     },
     "execution_count": 25,
     "metadata": {},
     "output_type": "execute_result"
    }
   ],
   "source": [
    "n_epochs = 10\n",
    "\n",
    "# since train_ds is replicated num_epochs times in get_datasets(), we divide by num_epochs\n",
    "num_steps_per_epoch = train_ds.cardinality().numpy() // num_epochs\n",
    "num_steps_per_epoch"
   ]
  },
  {
   "cell_type": "code",
   "execution_count": 26,
   "metadata": {},
   "outputs": [
    {
     "name": "stdout",
     "output_type": "stream",
     "text": [
      "train epoch: 1, loss: 0.4157513380050659, accuracy: 84.84500122070312\n",
      "test epoch: 1, loss: 0.3797571063041687, accuracy: 85.90745544433594\n",
      "train epoch: 2, loss: 0.32751020789146423, accuracy: 87.67166900634766\n",
      "test epoch: 2, loss: 0.36769619584083557, accuracy: 85.927490234375\n",
      "train epoch: 3, loss: 0.31206145882606506, accuracy: 88.11833190917969\n",
      "test epoch: 3, loss: 0.36005911231040955, accuracy: 86.54847717285156\n",
      "train epoch: 4, loss: 0.3079110383987427, accuracy: 88.25\n",
      "test epoch: 4, loss: 0.35083144903182983, accuracy: 87.38982391357422\n",
      "train epoch: 5, loss: 0.3036414384841919, accuracy: 88.4566650390625\n",
      "test epoch: 5, loss: 0.3441038727760315, accuracy: 87.16947174072266\n",
      "train epoch: 6, loss: 0.29797348380088806, accuracy: 88.68000030517578\n",
      "test epoch: 6, loss: 0.3531091511249542, accuracy: 87.24960327148438\n",
      "train epoch: 7, loss: 0.2912094295024872, accuracy: 88.96333312988281\n",
      "test epoch: 7, loss: 0.33899325132369995, accuracy: 87.82051086425781\n",
      "train epoch: 8, loss: 0.2872004806995392, accuracy: 89.09500122070312\n",
      "test epoch: 8, loss: 0.34843921661376953, accuracy: 87.56009674072266\n",
      "train epoch: 9, loss: 0.28535163402557373, accuracy: 89.1500015258789\n",
      "test epoch: 9, loss: 0.3520096242427826, accuracy: 87.04927825927734\n",
      "train epoch: 10, loss: 0.2838056683540344, accuracy: 89.22833251953125\n",
      "test epoch: 10, loss: 0.3239782452583313, accuracy: 88.20112609863281\n",
      "train epoch: 11, loss: 0.2818230390548706, accuracy: 89.17833709716797\n",
      "test epoch: 11, loss: 0.3474281430244446, accuracy: 87.31971740722656\n",
      "train epoch: 12, loss: 0.2848246991634369, accuracy: 89.21333312988281\n",
      "test epoch: 12, loss: 0.3342348635196686, accuracy: 87.77043151855469\n",
      "train epoch: 13, loss: 0.28152257204055786, accuracy: 89.20166778564453\n",
      "test epoch: 13, loss: 0.3605540692806244, accuracy: 86.708740234375\n",
      "train epoch: 14, loss: 0.27901068329811096, accuracy: 89.375\n",
      "test epoch: 14, loss: 0.38874632120132446, accuracy: 85.7471923828125\n",
      "train epoch: 15, loss: 0.2788592576980591, accuracy: 89.4183349609375\n",
      "test epoch: 15, loss: 0.33218926191329956, accuracy: 88.20112609863281\n",
      "train epoch: 16, loss: 0.27429571747779846, accuracy: 89.5566635131836\n",
      "test epoch: 16, loss: 0.36247387528419495, accuracy: 87.38982391357422\n",
      "train epoch: 17, loss: 0.2759726047515869, accuracy: 89.49000549316406\n",
      "test epoch: 17, loss: 0.35853472352027893, accuracy: 86.71875\n",
      "train epoch: 18, loss: 0.27999478578567505, accuracy: 89.32666778564453\n",
      "test epoch: 18, loss: 0.34325823187828064, accuracy: 87.59014892578125\n",
      "train epoch: 19, loss: 0.27778032422065735, accuracy: 89.43333435058594\n",
      "test epoch: 19, loss: 0.3498062193393707, accuracy: 87.61017608642578\n",
      "train epoch: 20, loss: 0.27480989694595337, accuracy: 89.5250015258789\n",
      "test epoch: 20, loss: 0.33170878887176514, accuracy: 88.0809326171875\n",
      "train epoch: 21, loss: 0.27625808119773865, accuracy: 89.55000305175781\n",
      "test epoch: 21, loss: 0.34741875529289246, accuracy: 88.01081848144531\n",
      "train epoch: 22, loss: 0.27406981587409973, accuracy: 89.54332733154297\n",
      "test epoch: 22, loss: 0.3399490416049957, accuracy: 87.890625\n"
     ]
    },
    {
     "ename": "KeyboardInterrupt",
     "evalue": "",
     "output_type": "error",
     "traceback": [
      "\u001b[0;31m---------------------------------------------------------------------------\u001b[0m",
      "\u001b[0;31mKeyboardInterrupt\u001b[0m                         Traceback (most recent call last)",
      "Cell \u001b[0;32mIn[26], line 5\u001b[0m\n\u001b[1;32m      1\u001b[0m \u001b[38;5;28;01mfor\u001b[39;00m step,batch \u001b[38;5;129;01min\u001b[39;00m \u001b[38;5;28menumerate\u001b[39m(train_ds\u001b[38;5;241m.\u001b[39mas_numpy_iterator()):\n\u001b[1;32m      2\u001b[0m \n\u001b[1;32m      3\u001b[0m   \u001b[38;5;66;03m# Run optimization steps over training batches and compute batch metrics\u001b[39;00m\n\u001b[1;32m      4\u001b[0m   state \u001b[38;5;241m=\u001b[39m train_step(state, batch, dropout_rng) \u001b[38;5;66;03m# get updated train state (which contains the updated parameters)\u001b[39;00m\n\u001b[0;32m----> 5\u001b[0m   state \u001b[38;5;241m=\u001b[39m \u001b[43mcompute_metrics\u001b[49m\u001b[43m(\u001b[49m\u001b[43mstate\u001b[49m\u001b[38;5;241;43m=\u001b[39;49m\u001b[43mstate\u001b[49m\u001b[43m,\u001b[49m\u001b[43m \u001b[49m\u001b[43mbatch\u001b[49m\u001b[38;5;241;43m=\u001b[39;49m\u001b[43mbatch\u001b[49m\u001b[43m)\u001b[49m \u001b[38;5;66;03m# aggregate batch metrics\u001b[39;00m\n\u001b[1;32m      7\u001b[0m   \u001b[38;5;28;01mif\u001b[39;00m (step\u001b[38;5;241m+\u001b[39m\u001b[38;5;241m1\u001b[39m) \u001b[38;5;241m%\u001b[39m num_steps_per_epoch \u001b[38;5;241m==\u001b[39m \u001b[38;5;241m0\u001b[39m: \u001b[38;5;66;03m# one training epoch has passed\u001b[39;00m\n\u001b[1;32m      8\u001b[0m     \u001b[38;5;28;01mfor\u001b[39;00m metric,value \u001b[38;5;129;01min\u001b[39;00m state\u001b[38;5;241m.\u001b[39mmetrics\u001b[38;5;241m.\u001b[39mcompute()\u001b[38;5;241m.\u001b[39mitems(): \u001b[38;5;66;03m# compute metrics\u001b[39;00m\n",
      "File \u001b[0;32m<string>:1\u001b[0m, in \u001b[0;36m<lambda>\u001b[0;34m(_cls, count, mu, nu)\u001b[0m\n",
      "\u001b[0;31mKeyboardInterrupt\u001b[0m: "
     ]
    }
   ],
   "source": [
    "for step,batch in enumerate(train_ds.as_numpy_iterator()):\n",
    "\n",
    "  # Run optimization steps over training batches and compute batch metrics\n",
    "  state = train_step(state, batch, dropout_rng) # get updated train state (which contains the updated parameters)\n",
    "  state = compute_metrics(state=state, batch=batch) # aggregate batch metrics\n",
    "\n",
    "  if (step+1) % num_steps_per_epoch == 0: # one training epoch has passed\n",
    "    for metric,value in state.metrics.compute().items(): # compute metrics\n",
    "      metrics_history[f'train_{metric}'].append(value) # record metrics\n",
    "    state = state.replace(metrics=state.metrics.empty()) # reset train_metrics for next training epoch\n",
    "\n",
    "    # Compute metrics on the test set after each training epoch\n",
    "    test_state = state\n",
    "    for test_batch in test_ds.as_numpy_iterator():\n",
    "      test_state = compute_metrics(state=test_state, batch=test_batch)\n",
    "\n",
    "    for metric,value in test_state.metrics.compute().items():\n",
    "      metrics_history[f'test_{metric}'].append(value)\n",
    "\n",
    "    print(f\"train epoch: {(step+1) // num_steps_per_epoch}, \"\n",
    "          f\"loss: {metrics_history['train_loss'][-1]}, \"\n",
    "          f\"accuracy: {metrics_history['train_accuracy'][-1] * 100}\")\n",
    "    print(f\"test epoch: {(step+1) // num_steps_per_epoch}, \"\n",
    "          f\"loss: {metrics_history['test_loss'][-1]}, \"\n",
    "          f\"accuracy: {metrics_history['test_accuracy'][-1] * 100}\")"
   ]
  },
  {
   "cell_type": "code",
   "execution_count": null,
   "metadata": {},
   "outputs": [
    {
     "data": {
      "image/png": "[encoded data removed]",
      "text/plain": [
       "<Figure size 1500x500 with 2 Axes>"
      ]
     },
     "metadata": {},
     "output_type": "display_data"
    }
   ],
   "source": [
    "# Plot loss and accuracy in subplots\n",
    "fig, (ax1, ax2) = plt.subplots(1, 2, figsize=(15, 5))\n",
    "ax1.set_title('Loss')\n",
    "ax2.set_title('Accuracy')\n",
    "for dataset in ('train','test'):\n",
    "  ax1.plot(metrics_history[f'{dataset}_loss'], label=f'{dataset}_loss')\n",
    "  ax2.plot(metrics_history[f'{dataset}_accuracy'], label=f'{dataset}_accuracy')\n",
    "ax1.legend()\n",
    "ax2.legend();"
   ]
  },
  {
   "cell_type": "code",
   "execution_count": null,
   "metadata": {},
   "outputs": [],
   "source": [
    "@jax.jit\n",
    "def predict(state, batch):\n",
    "  logits = state.apply_fn({'params': state.params}, batch['image'], training=False)\n",
    "  return logits.argmax(axis=1)"
   ]
  },
  {
   "attachments": {},
   "cell_type": "markdown",
   "metadata": {},
   "source": [
    "# Prediction\n",
    "Lets look at how the model makes predictions\n"
   ]
  },
  {
   "cell_type": "code",
   "execution_count": null,
   "metadata": {},
   "outputs": [
    {
     "name": "stdout",
     "output_type": "stream",
     "text": [
      "outputs:\n",
      "T-shirt/top 0.61\n",
      "Trouser -3.83\n",
      "Pullover 1.99\n",
      "Dress -2.1399999\n",
      "Coat -0.71\n",
      "Sandal -7.74\n",
      "Shirt 0.58\n",
      "Sneaker -11.21\n",
      "Bag -2.95\n",
      "Ankle boot -11.95\n",
      "best guess: [2 4 3 4 8 7 4 7 2 3 9 7 0 2 5 1 9 3 6 2 5 9 1 2 5 7 6 8 4 3 5 5]\n",
      "Truth Class: 2 Pullover\n"
     ]
    },
    {
     "data": {
      "image/png": "[encoded data removed]",
      "text/plain": [
       "<Figure size 640x480 with 1 Axes>"
      ]
     },
     "metadata": {},
     "output_type": "display_data"
    }
   ],
   "source": [
    "for batch in test_ds.as_numpy_iterator():\n",
    "    pred = predict(state, batch)\n",
    "    logits = state.apply_fn({'params': state.params}, batch['image'], training=False)\n",
    "    test_idx = np.random.randint(len(pred))\n",
    "    print(\"outputs:\")\n",
    "    for i, p in enumerate(logits[test_idx]):\n",
    "        print(lookup_dict[i], round(p,2))\n",
    "\n",
    "    print('best guess:', pred)\n",
    "    plt.imshow(np.squeeze(batch['image'][test_idx]),cmap='gray')\n",
    "\n",
    "    print('Truth Class:',batch['label'][test_idx],lookup_dict[batch['label'][test_idx]]);\n",
    "    break"
   ]
  },
  {
   "attachments": {},
   "cell_type": "markdown",
   "metadata": {},
   "source": [
    "\n",
    "## Other Checks\n",
    "\n",
    "### Confusion matrix\n",
    "A confusion matrix is a 2-D histogram with the dimensions being the true class, and the predicted class.\n",
    "The diagonal bins in this histogram are correct prediction true_class==predicted_class, otherwise it is an\n",
    "incorrect prediction. Run the cell below and see if you can guess which class is hardest to identify"
   ]
  },
  {
   "cell_type": "code",
   "execution_count": null,
   "metadata": {},
   "outputs": [],
   "source": [
    "def check(state, batch):\n",
    "    logits = state.apply_fn({'params': state.params}, batch['image'], training=False)\n",
    "    pred = predict(state, batch)\n",
    "    confusion_matrix = np.zeros((n_classes, n_classes))\n",
    "\n",
    "    for truth, guess in zip(batch['label'], pred):\n",
    "        confusion_matrix[truth, guess] += 1\n",
    "\n",
    "    plt.imshow(confusion_matrix)\n",
    "    plt.xlabel('Prediction')\n",
    "    plt.ylabel('Truth')\n",
    "    plt.xticks(range(0,10), labels, rotation=90)\n",
    "    plt.yticks(range(0,10), labels)\n",
    "    plt.show()"
   ]
  },
  {
   "cell_type": "code",
   "execution_count": null,
   "metadata": {},
   "outputs": [
    {
     "data": {
      "image/png": "[encoded data removed]",
      "text/plain": [
       "<Figure size 640x480 with 1 Axes>"
      ]
     },
     "metadata": {},
     "output_type": "display_data"
    }
   ],
   "source": [
    "for batch in test_ds.as_numpy_iterator():\n",
    "    check(state, batch)\n",
    "    break"
   ]
  },
  {
   "cell_type": "code",
   "execution_count": null,
   "metadata": {},
   "outputs": [],
   "source": []
  }
 ],
 "metadata": {
  "kernelspec": {
   "display_name": "Python 3",
   "language": "python",
   "name": "python3"
  },
  "language_info": {
   "codemirror_mode": {
    "name": "ipython",
    "version": 3
   },
   "file_extension": ".py",
   "mimetype": "text/x-python",
   "name": "python",
   "nbconvert_exporter": "python",
   "pygments_lexer": "ipython3",
   "version": "3.10.15"
  }
 },
 "nbformat": 4,
 "nbformat_minor": 4
}
