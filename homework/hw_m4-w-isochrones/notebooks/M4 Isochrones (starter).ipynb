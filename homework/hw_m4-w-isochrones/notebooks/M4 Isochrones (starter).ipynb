{
 "cells": [
  {
   "cell_type": "code",
   "execution_count": null,
   "id": "d6cb341a-b9e9-4ce0-bd89-beef90b4ce21",
   "metadata": {},
   "outputs": [],
   "source": [
    "import numpy as np\n",
    "import pandas as pd\n",
    "\n",
    "import matplotlib.pyplot as plt"
   ]
  },
  {
   "attachments": {},
   "cell_type": "markdown",
   "id": "d3625690-cf20-4ada-800d-4407014c3ea8",
   "metadata": {},
   "source": [
    "# Isochrones\n",
    "\n",
    "Recall that stellar clusters are gravitationally bound groupings of stars born at the same time.  By looking at the H-R diagram of a cluster -- specifically where the population _leaves_ the main sequence -- we can determine the age of the cluster.  To do this we must know the typical main sequence lifetime of stars, which depends on their mass, metalicity, etc. and for that we must turn to stellar modeling.  [MESA](https://docs.mesastar.org) is a stellar modeling library which incorporates the physics important for stellar evolution into 1-D models of stars.  The results useful for our purposes are stellar evolution tracks, the expected trajectory of the star through the H-R diagram as it evolves in time.\n",
    "\n",
    "[MIST](http://waps.cfa.harvard.edu/MIST/index.html) is an effort to supply a large database of MESA stellar track simulations for the purpose of producing isochrones.  If you imagine stacking up a cluster's worth of stellar evolution tracks, slicing through them at fixed age will produce an isochrone.\n",
    "\n",
    "I've used the [MIST isochrone interpolator](http://waps.cfa.harvard.edu/MIST/interp_isos.html) to produce several isochrones based on known properties of M4 (metalicity, reddening due to dust, etc.), which I've included in the `data/` directory."
   ]
  },
  {
   "cell_type": "markdown",
   "id": "ead47cc1-d4ea-459b-a3f3-bc21e51ce853",
   "metadata": {},
   "source": [
    "There is a lot of info in these files.  To save ourselves a _big_ headache in parsing them, we'll make use of a python script authored by [Jieun Choi](https://github.com/jieunchoi)."
   ]
  },
  {
   "cell_type": "code",
   "execution_count": null,
   "id": "174f907d-bb9d-4d36-9a8b-57ff469ddb96",
   "metadata": {},
   "outputs": [],
   "source": [
    "!wget -nc https://github.com/jieunchoi/MIST_codes/raw/master/scripts/read_mist_models.py"
   ]
  },
  {
   "cell_type": "markdown",
   "id": "663c6047-acb2-4b49-a9ea-ef8c62b2f670",
   "metadata": {},
   "source": [
    "Now let's read in the file."
   ]
  },
  {
   "cell_type": "code",
   "execution_count": null,
   "id": "4d806c52-07aa-4b7b-a44e-0146ff8b0b81",
   "metadata": {},
   "outputs": [],
   "source": [
    "import read_mist_models\n",
    "\n",
    "filename = '../data/m4_isochrones.iso.cmd'\n",
    "iso = read_mist_models.ISOCMD(filename)"
   ]
  },
  {
   "cell_type": "markdown",
   "id": "4ea9db64-5e31-465d-976d-bebd13a9b464",
   "metadata": {},
   "source": [
    "The information we're after is in `iso.isocmds` (CMD: color-magnitude diagram)."
   ]
  },
  {
   "cell_type": "code",
   "execution_count": null,
   "id": "34bdfd2b-1131-442e-9906-a297c92942ea",
   "metadata": {},
   "outputs": [],
   "source": [
    "type(iso.isocmds), len(iso.isocmds)"
   ]
  },
  {
   "cell_type": "markdown",
   "id": "98559484-e5fb-40d6-a1f1-acfa853af996",
   "metadata": {},
   "source": [
    "We see this is a list with 7 elements.  These 7 CMDs are isochrones for 7 different ages, which we can see in the table of each.  Let's inspect the first one."
   ]
  },
  {
   "cell_type": "code",
   "execution_count": null,
   "id": "f27a6ac5-540e-4e4a-9f87-7ee63903f541",
   "metadata": {},
   "outputs": [],
   "source": [
    "iso_array = iso.isocmds[0]\n",
    "type(iso_array)"
   ]
  },
  {
   "cell_type": "markdown",
   "id": "a9bedded-0ec2-4593-b1be-3650a122c423",
   "metadata": {},
   "source": [
    "This are numpy record arrays (basically numpy arrays with names columns)."
   ]
  },
  {
   "cell_type": "code",
   "execution_count": null,
   "id": "ff01725b-3df5-48b5-b640-115b8d5e6944",
   "metadata": {},
   "outputs": [],
   "source": [
    "iso_array.dtype.names"
   ]
  },
  {
   "cell_type": "markdown",
   "id": "74e2e059-24bc-4aba-a136-12c265f3fddc",
   "metadata": {},
   "source": [
    "For a more detailed description see [here](http://waps.cfa.harvard.edu/MIST/README_tables.pdf).  Most of these columns are synthetic photometry (magnitude measurements) for various telescopes and filters (we'll be using the `Gaia_X_EDR3` ones).  `log10_isochrone_age_yr` is what it sounds like, and is different for each of the 7 CMDs in the list."
   ]
  },
  {
   "cell_type": "code",
   "execution_count": null,
   "id": "948f60df-317b-46cf-befc-71c2c64d393e",
   "metadata": {},
   "outputs": [],
   "source": [
    "# Compute our color quantity (BP - RP) for the isochrone and plot G vs BP-RP for the isochrone. Don't forget to invert the y-axis!"
   ]
  },
  {
   "cell_type": "markdown",
   "id": "2875f907-367e-4b37-b163-3847a4b95a79",
   "metadata": {},
   "source": [
    "This includes _all_ phases of stellar evolution.  If our focus is to date the cluster, we really only care about the main sequence and evolutionary phases immediately after (red giant) to find the turnoff.  `phase` indicates this the stellar evolution phase along the isochrone.  We can select the phases we're after:"
   ]
  },
  {
   "cell_type": "code",
   "execution_count": null,
   "id": "5c1bd853-8311-4ced-a198-484da2eb0ebd",
   "metadata": {},
   "outputs": [],
   "source": [
    "phase_sel = (iso_array['phase'] >= 0) & (iso_array['phase'] < 3)"
   ]
  },
  {
   "cell_type": "code",
   "execution_count": null,
   "id": "9dc30b90-ac89-4fb4-93cb-268b9363e561",
   "metadata": {},
   "outputs": [],
   "source": [
    "# Use the selection array to downselect the isochrone and plot it"
   ]
  },
  {
   "cell_type": "markdown",
   "id": "33fdd993-06bb-469f-9768-c210dd6dbce2",
   "metadata": {},
   "source": [
    "One final tweak we must make is to account for the distance to the cluster.  Our y-axis isn't actually luminosity, it's the _apparent_ magnitude in the G-band.  What we've been calling `mg` in our previous use of Gaia data was actually derived from the G-band observations and corrected for the distance to each sourse based on parallax measurement (which gave us something like an intrinsic, rather than apparent, brightness).  We're going to know use the true G-band measurement, which is `phot_g_mean_mag`.\n",
    "\n",
    "The isochrone simulation doesn't account for the faintness we would expect, so we'll need to do it ourselves by applying a [distance modulus](https://en.wikipedia.org/wiki/Distance_modulus).\n",
    "\n",
    "The cluster is 2.2 kpc away.  We'll use some convenience functions from astropy to compute the corresponding distance modulus."
   ]
  },
  {
   "cell_type": "code",
   "execution_count": null,
   "id": "7bfe5ab1-09ca-423e-aa09-719836c6d2a4",
   "metadata": {},
   "outputs": [],
   "source": [
    "!pip install --quiet astropy"
   ]
  },
  {
   "cell_type": "code",
   "execution_count": null,
   "id": "b5030039-08de-4c9e-b3af-8e283ca32b93",
   "metadata": {},
   "outputs": [],
   "source": [
    "import astropy.coordinates as coord\n",
    "import astropy.units as u\n",
    "\n",
    "distance = 2.2 * u.kpc\n",
    "distmod = coord.Distance(distance).distmod.value\n",
    "distmod"
   ]
  },
  {
   "cell_type": "code",
   "execution_count": null,
   "id": "bdeb0486-47df-4669-a35c-bf2a240ae71d",
   "metadata": {},
   "outputs": [],
   "source": [
    "# Add this distance modulus to the G-band magnitude of the isochrone"
   ]
  },
  {
   "cell_type": "markdown",
   "id": "d42c031e-90d4-40e3-bf98-fc7959406229",
   "metadata": {},
   "source": [
    "# Overplot Gaia Observation\n",
    "\n",
    "Finally, let's overplot the Gaia observations of confidently identified members of the M4 cluster.  Read in the cluster catalog we've worked with previously (`NGC6121-1.dat`), Gaia objects in the M4-neigborhood (`m4_gaia_source.csv`), and cross-match the catalogs to find the Gaia observations corresponding to the identified cluster members."
   ]
  },
  {
   "cell_type": "code",
   "execution_count": null,
   "id": "f36f0265-f0c6-4891-bf9c-a9adcf5d2853",
   "metadata": {},
   "outputs": [],
   "source": [
    "# Read M4 (NGC6121) and Gaia catalogd and crossmatch them"
   ]
  },
  {
   "cell_type": "markdown",
   "id": "934e8be3-3196-4466-ac52-1f86f27b7f0b",
   "metadata": {},
   "source": [
    "Now plot the M4 cluster members with the isochrone!"
   ]
  },
  {
   "cell_type": "code",
   "execution_count": null,
   "id": "55d10519-8e60-41c0-8528-d1f4369cb20e",
   "metadata": {},
   "outputs": [],
   "source": [
    "# plot M4 members and isochrone"
   ]
  },
  {
   "cell_type": "markdown",
   "id": "d7a271d8-b7f3-4570-a448-ff020f069e38",
   "metadata": {},
   "source": [
    "How do they compare?  Explore the other isochrones.  Based on the fits (comparing by eye is sufficient), how old do you think "
   ]
  },
  {
   "cell_type": "code",
   "execution_count": null,
   "id": "ed2b6d55-400f-4095-83a6-4f7e75d1efbb",
   "metadata": {},
   "outputs": [],
   "source": []
  }
 ],
 "metadata": {
  "kernelspec": {
   "display_name": "Python 3 (ipykernel)",
   "language": "python",
   "name": "python3"
  },
  "language_info": {
   "codemirror_mode": {
    "name": "ipython",
    "version": 3
   },
   "file_extension": ".py",
   "mimetype": "text/x-python",
   "name": "python",
   "nbconvert_exporter": "python",
   "pygments_lexer": "ipython3",
   "version": "3.9.12"
  }
 },
 "nbformat": 4,
 "nbformat_minor": 5
}
